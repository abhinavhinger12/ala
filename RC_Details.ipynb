{
 "cells": [
  {
   "cell_type": "code",
   "execution_count": 2,
   "metadata": {},
   "outputs": [],
   "source": [
    "from google.cloud import vision\n",
    "from google.cloud.vision import types\n",
    "import io\n",
    "from PIL import Image, ImageDraw\n",
    "from enum import Enum\n",
    "import re\n",
    "import string \n",
    "from aadhar import isValid\n",
    "import math"
   ]
  },
  {
   "cell_type": "code",
   "execution_count": 16,
   "metadata": {},
   "outputs": [],
   "source": [
    "def split_doc(text):\n",
    "    li = text.split('\\n')\n",
    "    zi = li.copy()\n",
    "    for l in zi:\n",
    "        pi = l.split(' ')\n",
    "        if len(pi)>1:\n",
    "            for p in pi:\n",
    "                li.append(p)\n",
    "            li.remove(l)\n",
    "    return li\n",
    "\n",
    "def find_ch_no(slices):\n",
    "    for s in slices:\n",
    "        s = s.upper()\n",
    "        if len(s)>=17:\n",
    "            return s\n",
    "    return 'CH No Not found'\n",
    "\n",
    "def find_eg_no(slices):\n",
    "    for s in slices:\n",
    "        s = s.upper()\n",
    "        if len(s)==12 and (s[0]=='G' or s[0]=='K'):\n",
    "            return s\n",
    "    return 'EG No Not found'\n",
    "\n",
    "def find_smallest_date(dates):\n",
    "    day = 31\n",
    "    month = 12\n",
    "    yr = 3000\n",
    "    for d in dates:\n",
    "        di = d.split('/')\n",
    "        di[0] = int(di[0])\n",
    "        di[1] = int(di[1])\n",
    "        di[2] = int(di[2])\n",
    "        if (di[0]<=day and di[1]<=month and di[2]<=yr) or (di[0]>day and di[2]<yr) or (di[1]>month and di[2]<yr):\n",
    "            day = di[0]\n",
    "            month = di[1]\n",
    "            yr = di[2]\n",
    "    return str(day)+'/'+str(month)+'/'+str(yr)\n",
    "        \n",
    "\n",
    "def check_date(s,char):\n",
    "    li = s.split(char)\n",
    "    try:\n",
    "        l = len(li[2])\n",
    "        li[0] = int(li[0])\n",
    "        li[1] = int(li[1])\n",
    "        li[2] = int(li[2])\n",
    "        if li[0]>31:\n",
    "            return False\n",
    "        if li[1]>12:\n",
    "            return False\n",
    "        if l!=4:\n",
    "            return False\n",
    "    except:\n",
    "        return False\n",
    "    return True\n",
    "\n",
    "def find_reg_date(slices):\n",
    "    dates = []\n",
    "    for s in slices:\n",
    "        si = ''\n",
    "        for l in s:\n",
    "            if not l.isalpha():\n",
    "                si += l\n",
    "        s = si\n",
    "        if len(s.split('/'))==3:\n",
    "            if check_date(s,'/'):\n",
    "                dates.append(s)\n",
    "        if len(s.split('-'))==3:\n",
    "            if check_date(s,'-'):\n",
    "                t = s.split('-')\n",
    "                z = t[0]+'/'+t[1]+'/'+t[2]\n",
    "                dates.append(z)\n",
    "        if len(dates)>0:\n",
    "            return find_smallest_date(dates)\n",
    "    return 'Date Not Found'"
   ]
  },
  {
   "cell_type": "code",
   "execution_count": 17,
   "metadata": {},
   "outputs": [],
   "source": [
    "def find_details_RC(path):\n",
    "    image_file = path\n",
    "    image  = Image.open(image_file)\n",
    "    client = vision.ImageAnnotatorClient()\n",
    "    with io.open(image_file, 'rb') as image_file1:\n",
    "            content = image_file1.read()\n",
    "    content_image = types.Image(content=content)\n",
    "    response = client.document_text_detection(image=content_image)\n",
    "    document = response.full_text_annotation\n",
    "    slices = split_doc(document.text)\n",
    "    res = {'Chasis No.':find_ch_no(slices),\n",
    "          'Engine No.':find_eg_no(slices),\n",
    "          'Reg. Date':find_reg_date(slices)}\n",
    "    return res"
   ]
  },
  {
   "cell_type": "code",
   "execution_count": 19,
   "metadata": {},
   "outputs": [
    {
     "data": {
      "text/plain": [
       "{'Chasis No.': 'MALBB51BLBM373420',\n",
       " 'Engine No.': 'G4LABM787522',\n",
       " 'Reg. Date': '11/1/2012'}"
      ]
     },
     "execution_count": 19,
     "metadata": {},
     "output_type": "execute_result"
    }
   ],
   "source": [
    "find_details_RC('/home/delhivery/Desktop/EY-Hack/ala/Challenge 2 - Motor Claims Closed File Review/Scanned Images of Physical Claim File/Data Set - Prototype 5/Registration Certificate.jpg')"
   ]
  },
  {
   "cell_type": "code",
   "execution_count": 20,
   "metadata": {},
   "outputs": [
    {
     "data": {
      "text/plain": [
       "{'Chasis No.': 'MA3EWB22SGH147797',\n",
       " 'Engine No.': 'K12MN4159989',\n",
       " 'Reg. Date': '4/10/2016'}"
      ]
     },
     "execution_count": 20,
     "metadata": {},
     "output_type": "execute_result"
    }
   ],
   "source": [
    "find_details_RC('/home/delhivery/Desktop/EY-Hack/ala/Challenge 2 - Motor Claims Closed File Review/Scanned Images of Physical Claim File/Data Set - Prototype 4/REGISTRATION CERTIFICATE-1.jpg')"
   ]
  },
  {
   "cell_type": "code",
   "execution_count": 21,
   "metadata": {},
   "outputs": [
    {
     "data": {
      "text/plain": [
       "{'Chasis No.': 'MALAB51HR6M851724',\n",
       " 'Engine No.': 'G4HG6M816628',\n",
       " 'Reg. Date': '9/5/2006'}"
      ]
     },
     "execution_count": 21,
     "metadata": {},
     "output_type": "execute_result"
    }
   ],
   "source": [
    "find_details_RC('/home/delhivery/Desktop/EY-Hack/ala/Challenge 2 - Motor Claims Closed File Review/Scanned Images of Physical Claim File/Data Set - Prototype 3/Registration Certificate.jpg')"
   ]
  },
  {
   "cell_type": "code",
   "execution_count": 22,
   "metadata": {},
   "outputs": [
    {
     "data": {
      "text/plain": [
       "{'Chasis No.': 'MA3EWB22SGH221390',\n",
       " 'Engine No.': 'EG No Not found',\n",
       " 'Reg. Date': '20/9/2016'}"
      ]
     },
     "execution_count": 22,
     "metadata": {},
     "output_type": "execute_result"
    }
   ],
   "source": [
    "find_details_RC('/home/delhivery/Desktop/EY-Hack/ala/Challenge 2 - Motor Claims Closed File Review/Scanned Images of Physical Claim File/Data Set - Prototype 2/RC & Policy - Final-page-005.jpg')"
   ]
  },
  {
   "cell_type": "code",
   "execution_count": 18,
   "metadata": {},
   "outputs": [
    {
     "data": {
      "text/plain": [
       "{'Chasis No.': 'MALAN61CMCM1414623',\n",
       " 'Engine No.': 'G4LACMB36362',\n",
       " 'Reg. Date': '5/5/2012'}"
      ]
     },
     "execution_count": 18,
     "metadata": {},
     "output_type": "execute_result"
    }
   ],
   "source": [
    "find_details_RC('/home/delhivery/Desktop/EY-Hack/ala/Challenge 2 - Motor Claims Closed File Review/Scanned Images of Physical Claim File/Data Set - Prototype 1/Registration Certificate.jpg')"
   ]
  }
 ],
 "metadata": {
  "kernelspec": {
   "display_name": "Python 3",
   "language": "python",
   "name": "python3"
  },
  "language_info": {
   "codemirror_mode": {
    "name": "ipython",
    "version": 3
   },
   "file_extension": ".py",
   "mimetype": "text/x-python",
   "name": "python",
   "nbconvert_exporter": "python",
   "pygments_lexer": "ipython3",
   "version": "3.7.3"
  }
 },
 "nbformat": 4,
 "nbformat_minor": 2
}
