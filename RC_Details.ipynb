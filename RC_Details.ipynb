{
 "cells": [
  {
   "cell_type": "code",
   "execution_count": 2,
   "metadata": {},
   "outputs": [],
   "source": [
    "from google.cloud import vision\n",
    "from google.cloud.vision import types\n",
    "import io\n",
    "from PIL import Image, ImageDraw\n",
    "from enum import Enum\n",
    "import re\n",
    "import string \n",
    "from aadhar import isValid\n",
    "import math"
   ]
  },
  {
   "cell_type": "code",
<<<<<<< HEAD
   "execution_count": 16,
=======
   "execution_count": 3,
   "metadata": {},
   "outputs": [],
   "source": []
  },
  {
   "cell_type": "code",
   "execution_count": 4,
   "metadata": {},
   "outputs": [],
   "source": [
    "client = vision.ImageAnnotatorClient()\n",
    "with io.open(image_file, 'rb') as image_file1:\n",
    "        content = image_file1.read()\n",
    "content_image = types.Image(content=content)\n",
    "response = client.document_text_detection(image=content_image)\n",
    "document = response.full_text_annotation"
   ]
  },
  {
   "cell_type": "code",
   "execution_count": 5,
   "metadata": {},
   "outputs": [
    {
     "name": "stdout",
     "output_type": "stream",
     "text": [
      "Maharashtra State\n",
      "Certificate of Registration\n",
      "Form 23A\n",
      "REGN. NO :MHO2CH2887\n",
      "OSNO 01\n",
      "REG DT: 11/01/2012\n",
      "MFG CD : HYUMOT\n",
      "CH. NO: MALBB51BLBM373420 COLOUR: M RED\n",
      "E NO G4LABM787522\n",
      "CLASS LMV\n",
      "NAME AJIT G THAKKAR\n",
      "SWID OF : NA\n",
      "ADDRESS: AJ401 MINOO MINAR NEW MINOO CHSL\n",
      "VEERA DESAI ROAD BIH COURTYARD REST\n",
      "ANDHERI-WEST MUMBAI 400053\n",
      "HP/LEASE BMW INDIA FINANCIAL SERVICES PVTLTD\n",
      "MODEL 120 SPORTZBS IV\n",
      "Registering Authority\n",
      "BODY\n",
      "CARS\n",
      "NO. OF CYL : 4\n",
      "WHEEL BASE:\n",
      "RTO Mumbai West\n",
      "UNLADEN WT: 1066\n",
      "MFO DT : 11/2011 SEATING C\n",
      "FUEL\n",
      "PETROL STANDING C:\n",
      "REG UPTO : 10/01/2027 CU.CAP\n",
      ": 1197\n",
      "TAX UPTO LIT\n",
      "CARD SLNO: 020363712 Signature\n",
      "2018/10/23 08:43\n",
      "\n"
     ]
    }
   ],
   "source": [
    "print(document.text)"
   ]
  },
  {
   "cell_type": "code",
   "execution_count": 36,
   "metadata": {},
   "outputs": [
    {
     "name": "stdout",
     "output_type": "stream",
     "text": [
      "['Maharashtra', 'State']\n",
      "['Certificate', 'of', 'Registration']\n",
      "['Form', '23A']\n",
      "['REGN.', 'NO', ':MHO2CH2887']\n",
      "['OSNO', '01']\n",
      "['REG', 'DT:', '11/01/2012']\n",
      "['MFG', 'CD', ':', 'HYUMOT']\n",
      "['CH.', 'NO:', 'MALBB51BLBM373420', 'COLOUR:', 'M', 'RED']\n",
      "['E', 'NO', 'G4LABM787522']\n",
      "['CLASS', 'LMV']\n",
      "['NAME', 'AJIT', 'G', 'THAKKAR']\n",
      "['SWID', 'OF', ':', 'NA']\n",
      "['ADDRESS:', 'AJ401', 'MINOO', 'MINAR', 'NEW', 'MINOO', 'CHSL']\n",
      "['VEERA', 'DESAI', 'ROAD', 'BIH', 'COURTYARD', 'REST']\n",
      "['ANDHERI-WEST', 'MUMBAI', '400053']\n",
      "['HP/LEASE', 'BMW', 'INDIA', 'FINANCIAL', 'SERVICES', 'PVTLTD']\n",
      "['MODEL', '120', 'SPORTZBS', 'IV']\n",
      "['Registering', 'Authority']\n",
      "['BODY']\n",
      "['CARS']\n",
      "['NO.', 'OF', 'CYL', ':', '4']\n",
      "['WHEEL', 'BASE:']\n",
      "['RTO', 'Mumbai', 'West']\n",
      "['UNLADEN', 'WT:', '1066']\n",
      "['MFO', 'DT', ':', '11/2011', 'SEATING', 'C']\n",
      "['FUEL']\n",
      "['PETROL', 'STANDING', 'C:']\n",
      "['REG', 'UPTO', ':', '10/01/2027', 'CU.CAP']\n",
      "[':', '1197']\n",
      "['TAX', 'UPTO', 'LIT']\n",
      "['CARD', 'SLNO:', '020363712', 'Signature']\n",
      "['2018/10/23', '08:43']\n",
      "['']\n"
     ]
    }
   ],
   "source": [
    "slices = split_doc(document.text)"
   ]
  },
  {
   "cell_type": "code",
   "execution_count": 37,
   "metadata": {},
   "outputs": [
    {
     "data": {
      "text/plain": [
       "['BODY',\n",
       " 'CARS',\n",
       " 'FUEL',\n",
       " '',\n",
       " 'Maharashtra',\n",
       " 'State',\n",
       " 'Certificate',\n",
       " 'of',\n",
       " 'Registration',\n",
       " 'Form',\n",
       " '23A',\n",
       " 'REGN.',\n",
       " 'NO',\n",
       " ':MHO2CH2887',\n",
       " 'OSNO',\n",
       " '01',\n",
       " 'REG',\n",
       " 'DT:',\n",
       " '11/01/2012',\n",
       " 'MFG',\n",
       " 'CD',\n",
       " ':',\n",
       " 'HYUMOT',\n",
       " 'CH.',\n",
       " 'NO:',\n",
       " 'MALBB51BLBM373420',\n",
       " 'COLOUR:',\n",
       " 'M',\n",
       " 'RED',\n",
       " 'E',\n",
       " 'NO',\n",
       " 'G4LABM787522',\n",
       " 'CLASS',\n",
       " 'LMV',\n",
       " 'NAME',\n",
       " 'AJIT',\n",
       " 'G',\n",
       " 'THAKKAR',\n",
       " 'SWID',\n",
       " 'OF',\n",
       " ':',\n",
       " 'NA',\n",
       " 'ADDRESS:',\n",
       " 'AJ401',\n",
       " 'MINOO',\n",
       " 'MINAR',\n",
       " 'NEW',\n",
       " 'MINOO',\n",
       " 'CHSL',\n",
       " 'VEERA',\n",
       " 'DESAI',\n",
       " 'ROAD',\n",
       " 'BIH',\n",
       " 'COURTYARD',\n",
       " 'REST',\n",
       " 'ANDHERI-WEST',\n",
       " 'MUMBAI',\n",
       " '400053',\n",
       " 'HP/LEASE',\n",
       " 'BMW',\n",
       " 'INDIA',\n",
       " 'FINANCIAL',\n",
       " 'SERVICES',\n",
       " 'PVTLTD',\n",
       " 'MODEL',\n",
       " '120',\n",
       " 'SPORTZBS',\n",
       " 'IV',\n",
       " 'Registering',\n",
       " 'Authority',\n",
       " 'NO.',\n",
       " 'OF',\n",
       " 'CYL',\n",
       " ':',\n",
       " '4',\n",
       " 'WHEEL',\n",
       " 'BASE:',\n",
       " 'RTO',\n",
       " 'Mumbai',\n",
       " 'West',\n",
       " 'UNLADEN',\n",
       " 'WT:',\n",
       " '1066',\n",
       " 'MFO',\n",
       " 'DT',\n",
       " ':',\n",
       " '11/2011',\n",
       " 'SEATING',\n",
       " 'C',\n",
       " 'PETROL',\n",
       " 'STANDING',\n",
       " 'C:',\n",
       " 'REG',\n",
       " 'UPTO',\n",
       " ':',\n",
       " '10/01/2027',\n",
       " 'CU.CAP',\n",
       " ':',\n",
       " '1197',\n",
       " 'TAX',\n",
       " 'UPTO',\n",
       " 'LIT',\n",
       " 'CARD',\n",
       " 'SLNO:',\n",
       " '020363712',\n",
       " 'Signature',\n",
       " '2018/10/23',\n",
       " '08:43']"
      ]
     },
     "execution_count": 37,
     "metadata": {},
     "output_type": "execute_result"
    }
   ],
   "source": [
    "slices"
   ]
  },
  {
   "cell_type": "code",
   "execution_count": 61,
>>>>>>> d690ca2f08e9a5dbf93e8f8878ba5dbc2936307b
   "metadata": {},
   "outputs": [],
   "source": [
    "def split_doc(text):\n",
    "    li = text.split('\\n')\n",
    "    zi = li.copy()\n",
    "    for l in zi:\n",
    "        pi = l.split(' ')\n",
    "        if len(pi)>1:\n",
    "            for p in pi:\n",
    "                li.append(p)\n",
    "            li.remove(l)\n",
    "    return li\n",
    "\n",
    "def find_ch_no(slices):\n",
    "    for s in slices:\n",
    "        s = s.upper()\n",
<<<<<<< HEAD
    "        if len(s)>=17:\n",
=======
    "        if len(s)>=17 and s[:2]=='MA':\n",
>>>>>>> d690ca2f08e9a5dbf93e8f8878ba5dbc2936307b
    "            return s\n",
    "    return 'CH No Not found'\n",
    "\n",
    "def find_eg_no(slices):\n",
    "    for s in slices:\n",
    "        s = s.upper()\n",
    "        if len(s)==12 and (s[0]=='G' or s[0]=='K'):\n",
    "            return s\n",
    "    return 'EG No Not found'\n",
    "\n",
    "def find_smallest_date(dates):\n",
    "    day = 31\n",
    "    month = 12\n",
    "    yr = 3000\n",
    "    for d in dates:\n",
    "        di = d.split('/')\n",
    "        di[0] = int(di[0])\n",
    "        di[1] = int(di[1])\n",
    "        di[2] = int(di[2])\n",
    "        if (di[0]<=day and di[1]<=month and di[2]<=yr) or (di[0]>day and di[2]<yr) or (di[1]>month and di[2]<yr):\n",
    "            day = di[0]\n",
    "            month = di[1]\n",
    "            yr = di[2]\n",
    "    return str(day)+'/'+str(month)+'/'+str(yr)\n",
    "        \n",
    "\n",
    "def check_date(s,char):\n",
    "    li = s.split(char)\n",
    "    try:\n",
    "        l = len(li[2])\n",
    "        li[0] = int(li[0])\n",
    "        li[1] = int(li[1])\n",
    "        li[2] = int(li[2])\n",
    "        if li[0]>31:\n",
    "            return False\n",
    "        if li[1]>12:\n",
    "            return False\n",
    "        if l!=4:\n",
    "            return False\n",
    "    except:\n",
    "        return False\n",
    "    return True\n",
    "\n",
    "def find_reg_date(slices):\n",
    "    dates = []\n",
    "    for s in slices:\n",
<<<<<<< HEAD
    "        si = ''\n",
    "        for l in s:\n",
    "            if not l.isalpha():\n",
    "                si += l\n",
    "        s = si\n",
=======
>>>>>>> d690ca2f08e9a5dbf93e8f8878ba5dbc2936307b
    "        if len(s.split('/'))==3:\n",
    "            if check_date(s,'/'):\n",
    "                dates.append(s)\n",
    "        if len(s.split('-'))==3:\n",
    "            if check_date(s,'-'):\n",
    "                t = s.split('-')\n",
    "                z = t[0]+'/'+t[1]+'/'+t[2]\n",
    "                dates.append(z)\n",
    "        if len(dates)>0:\n",
    "            return find_smallest_date(dates)\n",
    "    return 'Date Not Found'"
   ]
  },
  {
   "cell_type": "code",
<<<<<<< HEAD
   "execution_count": 17,
=======
   "execution_count": 48,
   "metadata": {},
   "outputs": [
    {
     "data": {
      "text/plain": [
       "'G4LABM787522'"
      ]
     },
     "execution_count": 48,
     "metadata": {},
     "output_type": "execute_result"
    }
   ],
   "source": [
    "find_eg_no(slices)"
   ]
  },
  {
   "cell_type": "code",
   "execution_count": 49,
   "metadata": {},
   "outputs": [],
   "source": [
    "dates = find_date(slices)"
   ]
  },
  {
   "cell_type": "code",
   "execution_count": 50,
   "metadata": {},
   "outputs": [
    {
     "data": {
      "text/plain": [
       "'11/1/2012'"
      ]
     },
     "execution_count": 50,
     "metadata": {},
     "output_type": "execute_result"
    }
   ],
   "source": [
    "find_smallest_date(dates)"
   ]
  },
  {
   "cell_type": "code",
   "execution_count": 62,
>>>>>>> d690ca2f08e9a5dbf93e8f8878ba5dbc2936307b
   "metadata": {},
   "outputs": [],
   "source": [
    "def find_details_RC(path):\n",
    "    image_file = path\n",
    "    image  = Image.open(image_file)\n",
    "    client = vision.ImageAnnotatorClient()\n",
    "    with io.open(image_file, 'rb') as image_file1:\n",
    "            content = image_file1.read()\n",
    "    content_image = types.Image(content=content)\n",
    "    response = client.document_text_detection(image=content_image)\n",
    "    document = response.full_text_annotation\n",
    "    slices = split_doc(document.text)\n",
    "    res = {'Chasis No.':find_ch_no(slices),\n",
    "          'Engine No.':find_eg_no(slices),\n",
    "          'Reg. Date':find_reg_date(slices)}\n",
    "    return res"
   ]
  },
  {
   "cell_type": "code",
<<<<<<< HEAD
   "execution_count": 19,
=======
   "execution_count": 63,
>>>>>>> d690ca2f08e9a5dbf93e8f8878ba5dbc2936307b
   "metadata": {},
   "outputs": [
    {
     "data": {
      "text/plain": [
       "{'Chasis No.': 'MALBB51BLBM373420',\n",
       " 'Engine No.': 'G4LABM787522',\n",
       " 'Reg. Date': '11/1/2012'}"
      ]
     },
<<<<<<< HEAD
     "execution_count": 19,
=======
     "execution_count": 63,
>>>>>>> d690ca2f08e9a5dbf93e8f8878ba5dbc2936307b
     "metadata": {},
     "output_type": "execute_result"
    }
   ],
   "source": [
    "find_details_RC('/home/delhivery/Desktop/EY-Hack/ala/Challenge 2 - Motor Claims Closed File Review/Scanned Images of Physical Claim File/Data Set - Prototype 5/Registration Certificate.jpg')"
   ]
  },
  {
   "cell_type": "code",
<<<<<<< HEAD
   "execution_count": 20,
=======
   "execution_count": 64,
>>>>>>> d690ca2f08e9a5dbf93e8f8878ba5dbc2936307b
   "metadata": {},
   "outputs": [
    {
     "data": {
      "text/plain": [
       "{'Chasis No.': 'MA3EWB22SGH147797',\n",
       " 'Engine No.': 'K12MN4159989',\n",
       " 'Reg. Date': '4/10/2016'}"
      ]
     },
<<<<<<< HEAD
     "execution_count": 20,
=======
     "execution_count": 64,
>>>>>>> d690ca2f08e9a5dbf93e8f8878ba5dbc2936307b
     "metadata": {},
     "output_type": "execute_result"
    }
   ],
   "source": [
    "find_details_RC('/home/delhivery/Desktop/EY-Hack/ala/Challenge 2 - Motor Claims Closed File Review/Scanned Images of Physical Claim File/Data Set - Prototype 4/REGISTRATION CERTIFICATE-1.jpg')"
   ]
  },
  {
   "cell_type": "code",
<<<<<<< HEAD
   "execution_count": 21,
=======
   "execution_count": 65,
>>>>>>> d690ca2f08e9a5dbf93e8f8878ba5dbc2936307b
   "metadata": {},
   "outputs": [
    {
     "data": {
      "text/plain": [
       "{'Chasis No.': 'MALAB51HR6M851724',\n",
       " 'Engine No.': 'G4HG6M816628',\n",
       " 'Reg. Date': '9/5/2006'}"
      ]
     },
<<<<<<< HEAD
     "execution_count": 21,
=======
     "execution_count": 65,
>>>>>>> d690ca2f08e9a5dbf93e8f8878ba5dbc2936307b
     "metadata": {},
     "output_type": "execute_result"
    }
   ],
   "source": [
    "find_details_RC('/home/delhivery/Desktop/EY-Hack/ala/Challenge 2 - Motor Claims Closed File Review/Scanned Images of Physical Claim File/Data Set - Prototype 3/Registration Certificate.jpg')"
   ]
  },
  {
   "cell_type": "code",
<<<<<<< HEAD
   "execution_count": 22,
=======
   "execution_count": 66,
>>>>>>> d690ca2f08e9a5dbf93e8f8878ba5dbc2936307b
   "metadata": {},
   "outputs": [
    {
     "data": {
      "text/plain": [
       "{'Chasis No.': 'MA3EWB22SGH221390',\n",
       " 'Engine No.': 'EG No Not found',\n",
       " 'Reg. Date': '20/9/2016'}"
      ]
     },
<<<<<<< HEAD
     "execution_count": 22,
=======
     "execution_count": 66,
>>>>>>> d690ca2f08e9a5dbf93e8f8878ba5dbc2936307b
     "metadata": {},
     "output_type": "execute_result"
    }
   ],
   "source": [
    "find_details_RC('/home/delhivery/Desktop/EY-Hack/ala/Challenge 2 - Motor Claims Closed File Review/Scanned Images of Physical Claim File/Data Set - Prototype 2/RC & Policy - Final-page-005.jpg')"
   ]
  },
  {
   "cell_type": "code",
<<<<<<< HEAD
   "execution_count": 18,
=======
   "execution_count": 67,
>>>>>>> d690ca2f08e9a5dbf93e8f8878ba5dbc2936307b
   "metadata": {},
   "outputs": [
    {
     "data": {
      "text/plain": [
       "{'Chasis No.': 'MALAN61CMCM1414623',\n",
       " 'Engine No.': 'G4LACMB36362',\n",
<<<<<<< HEAD
       " 'Reg. Date': '5/5/2012'}"
      ]
     },
     "execution_count": 18,
=======
       " 'Reg. Date': '4/6/2027'}"
      ]
     },
     "execution_count": 67,
>>>>>>> d690ca2f08e9a5dbf93e8f8878ba5dbc2936307b
     "metadata": {},
     "output_type": "execute_result"
    }
   ],
   "source": [
    "find_details_RC('/home/delhivery/Desktop/EY-Hack/ala/Challenge 2 - Motor Claims Closed File Review/Scanned Images of Physical Claim File/Data Set - Prototype 1/Registration Certificate.jpg')"
   ]
  }
 ],
 "metadata": {
  "kernelspec": {
   "display_name": "Python 3",
   "language": "python",
   "name": "python3"
  },
  "language_info": {
   "codemirror_mode": {
    "name": "ipython",
    "version": 3
   },
   "file_extension": ".py",
   "mimetype": "text/x-python",
   "name": "python",
   "nbconvert_exporter": "python",
   "pygments_lexer": "ipython3",
   "version": "3.7.3"
  }
 },
 "nbformat": 4,
 "nbformat_minor": 2
}
